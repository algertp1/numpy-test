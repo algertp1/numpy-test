{
 "cells": [
  {
   "cell_type": "code",
   "execution_count": 1,
   "id": "d8ded6c4",
   "metadata": {},
   "outputs": [
    {
     "name": "stdout",
     "output_type": "stream",
     "text": [
      " took 0.738616\n"
     ]
    }
   ],
   "source": [
    "import random\n",
    "import time\n",
    "import numpy as np\n",
    "\n",
    "n=4024\n",
    "\n",
    "a=[[random.random() for row in range(n) ] for col in range(n)]\n",
    "b=[[random.random() for row in range(n) ] for col in range(n)]\n",
    "\n",
    "start = time.time()\n",
    "c = np.matmul(a,b)\n",
    "end=time.time()\n",
    "print(\" took %0.6f\" % (end-start))"
   ]
  },
  {
   "cell_type": "code",
   "execution_count": null,
   "id": "bcc0f63b",
   "metadata": {},
   "outputs": [],
   "source": []
  }
 ],
 "metadata": {
  "kernelspec": {
   "display_name": ".venv",
   "language": "python",
   "name": "python3"
  },
  "language_info": {
   "codemirror_mode": {
    "name": "ipython",
    "version": 3
   },
   "file_extension": ".py",
   "mimetype": "text/x-python",
   "name": "python",
   "nbconvert_exporter": "python",
   "pygments_lexer": "ipython3",
   "version": "3.12.3"
  }
 },
 "nbformat": 4,
 "nbformat_minor": 5
}
